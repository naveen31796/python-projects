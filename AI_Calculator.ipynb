{
  "nbformat": 4,
  "nbformat_minor": 0,
  "metadata": {
    "colab": {
      "name": "AI Calculator.ipynb",
      "provenance": [],
      "collapsed_sections": [],
      "authorship_tag": "ABX9TyOAmNVWEJnK5fmClta0ugmE",
      "include_colab_link": true
    },
    "kernelspec": {
      "name": "python3",
      "display_name": "Python 3"
    },
    "language_info": {
      "name": "python"
    }
  },
  "cells": [
    {
      "cell_type": "markdown",
      "metadata": {
        "id": "view-in-github",
        "colab_type": "text"
      },
      "source": [
        "<a href=\"https://colab.research.google.com/github/naveen31796/python-projects/blob/main/AI_Calculator.ipynb\" target=\"_parent\"><img src=\"https://colab.research.google.com/assets/colab-badge.svg\" alt=\"Open In Colab\"/></a>"
      ]
    },
    {
      "cell_type": "code",
      "metadata": {
        "colab": {
          "base_uri": "https://localhost:8080/"
        },
        "id": "lbXGkV_bfAYO",
        "outputId": "a3a61733-6c0e-43bb-ffb6-12a67493f153"
      },
      "source": [
        "# pip install chatterbot\n",
        "from chatterbot import ChatBot\n",
        "\n",
        "# naming the ChatBot calculator\n",
        "# using mathematical evaluation logic\n",
        "# the calculator AI will not learn with the user input\n",
        "Bot = ChatBot(name = 'Calculator',\n",
        "                read_only = True,                  \n",
        "                logic_adapters = [\"chatterbot.logic.MathematicalEvaluation\"],                 \n",
        "                storage_adapter = \"chatterbot.storage.SQLStorageAdapter\")\n",
        "    \n",
        "\n",
        "# clear the screen and start the calculator\n",
        "print('\\033c')\n",
        "print(\"Hello, I am a calculator. How may I help you?\")\n",
        "while (True):\n",
        "    # take the input from the user\n",
        "    user_input = input(\"me: \")\n",
        "    \n",
        "    # check if the user has typed quit to exit the prgram   \n",
        "    if user_input.lower() == 'exit':\n",
        "        print(\"Exiting\")\n",
        "        break\n",
        "\n",
        "    # otherwise, evaluate the user input\n",
        "    # print invalid input if the AI is unable to comprehend the input\n",
        "    try:\n",
        "        response = Bot.get_response(user_input)\n",
        "        print(\"Calculator:\", response)\n",
        "    except:\n",
        "        print(\"Calculator: Please enter valid input.\")"
      ],
      "execution_count": null,
      "outputs": [
        {
          "output_type": "stream",
          "text": [
            "\u001bc\n",
            "Hello, I am a calculator. How may I help you?\n",
            "me: 5 plus 9 minus two times 6 divided by 3\n",
            "Calculator: 5 plus 9 minus two times 6 divided by 3 = 10\n",
            "me: exit\n",
            "Exiting\n"
          ],
          "name": "stdout"
        }
      ]
    }
  ]
}