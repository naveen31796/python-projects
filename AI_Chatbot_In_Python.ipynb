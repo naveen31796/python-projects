{
  "nbformat": 4,
  "nbformat_minor": 0,
  "metadata": {
    "colab": {
      "name": "AI_Chatbot_In_Python.ipynb",
      "provenance": [],
      "collapsed_sections": [],
      "include_colab_link": true
    },
    "kernelspec": {
      "name": "python3",
      "display_name": "Python 3"
    },
    "language_info": {
      "name": "python"
    }
  },
  "cells": [
    {
      "cell_type": "markdown",
      "metadata": {
        "id": "view-in-github",
        "colab_type": "text"
      },
      "source": [
        "<a href=\"https://colab.research.google.com/github/naveen31796/python-projects/blob/main/AI_Chatbot_In_Python.ipynb\" target=\"_parent\"><img src=\"https://colab.research.google.com/assets/colab-badge.svg\" alt=\"Open In Colab\"/></a>"
      ]
    },
    {
      "cell_type": "code",
      "metadata": {
        "colab": {
          "base_uri": "https://localhost:8080/"
        },
        "id": "UQi-t6G9kO3x",
        "outputId": "7aa58300-d3f5-46c2-f194-7aaa95d3aace"
      },
      "source": [
        "pip install chatterbot"
      ],
      "execution_count": null,
      "outputs": [
        {
          "output_type": "stream",
          "text": [
            "Requirement already satisfied: chatterbot in /usr/local/lib/python3.7/dist-packages (1.0.8)\n",
            "Requirement already satisfied: pytz in /usr/local/lib/python3.7/dist-packages (from chatterbot) (2018.9)\n",
            "Requirement already satisfied: sqlalchemy<1.4,>=1.3 in /usr/local/lib/python3.7/dist-packages (from chatterbot) (1.3.24)\n",
            "Requirement already satisfied: python-dateutil<2.9,>=2.8 in /usr/local/lib/python3.7/dist-packages (from chatterbot) (2.8.1)\n",
            "Requirement already satisfied: mathparse<0.2,>=0.1 in /usr/local/lib/python3.7/dist-packages (from chatterbot) (0.1.2)\n",
            "Requirement already satisfied: six>=1.5 in /usr/local/lib/python3.7/dist-packages (from python-dateutil<2.9,>=2.8->chatterbot) (1.15.0)\n"
          ],
          "name": "stdout"
        }
      ]
    },
    {
      "cell_type": "code",
      "metadata": {
        "colab": {
          "base_uri": "https://localhost:8080/"
        },
        "id": "ggX5yZpwkOoa",
        "outputId": "03b1fb8b-e0c4-4fd9-9b64-46239a763f15"
      },
      "source": [
        "pip install chatterbot_corpus"
      ],
      "execution_count": null,
      "outputs": [
        {
          "output_type": "stream",
          "text": [
            "Requirement already satisfied: chatterbot_corpus in /usr/local/lib/python3.7/dist-packages (1.2.0)\n",
            "Requirement already satisfied: PyYAML<4.0,>=3.12 in /usr/local/lib/python3.7/dist-packages (from chatterbot_corpus) (3.13)\n"
          ],
          "name": "stdout"
        }
      ]
    },
    {
      "cell_type": "code",
      "metadata": {
        "colab": {
          "base_uri": "https://localhost:8080/"
        },
        "id": "zihgseq-kOBU",
        "outputId": "f216edc9-15ea-4cb3-f343-f92810443446"
      },
      "source": [
        "pip install functions"
      ],
      "execution_count": null,
      "outputs": [
        {
          "output_type": "stream",
          "text": [
            "Requirement already satisfied: functions in /usr/local/lib/python3.7/dist-packages (0.7.0)\n"
          ],
          "name": "stdout"
        }
      ]
    },
    {
      "cell_type": "code",
      "metadata": {
        "id": "VK5uBWZ6mQeQ",
        "colab": {
          "base_uri": "https://localhost:8080/"
        },
        "outputId": "614b6042-68c4-41f2-8a0c-e13c63864996"
      },
      "source": [
        "# function to create the chatbot\n",
        "# we have the read_only to false so the chatbot learns from the user input \n",
        "def create_bot(name):\n",
        "    from chatterbot import ChatBot\n",
        "    Bot = ChatBot(name = name,\n",
        "                  read_only = False,                  \n",
        "                  logic_adapters = [\"chatterbot.logic.BestMatch\"],                 \n",
        "                  storage_adapter = \"chatterbot.storage.SQLStorageAdapter\")\n",
        "    return Bot\n",
        "\n",
        "# function to train the bot with a variety of topics\n",
        "# the language we have chosen is english\n",
        "# we can train the bot for other languages as well\n",
        "def train_all_data(Bot):\n",
        "    from chatterbot.trainers import ChatterBotCorpusTrainer\n",
        "    corpus_trainer = ChatterBotCorpusTrainer(Bot)\n",
        "    corpus_trainer.train(\"chatterbot.corpus.english\")\n",
        "\n",
        "# function to train the bot with custom data\n",
        "# it uses ListTrainer to train data from lists \n",
        "def custom_train(Bot, conversation):\n",
        "    from chatterbot.trainers import ListTrainer\n",
        "    trainer = ListTrainer(Bot)\n",
        "    trainer.train(conversation)\n",
        "\n",
        "# function to start and take responses from the chatbot\n",
        "# the chatbot stays running unless a word is typed from the bye_list \n",
        "def start_chatbot(Bot):\n",
        "    print('\\033c')\n",
        "    print(\"Hello, I am Jordan. How can I help you\")\n",
        "    bye_list = [\"bye jordan\", \"bye\", \"good bye\"] \n",
        "    \n",
        "    while (True):\n",
        "        user_input = input(\"me: \")   \n",
        "        if user_input.lower() in bye_list:\n",
        "            print(\"Jordan: Good bye and have a Nice day\")\n",
        "            break\n",
        "        \n",
        "        response = Bot.get_response(user_input)\n",
        "        print(\"Jordan:\", response)\n",
        "# create chatbot \n",
        "home_bot = create_bot('Jordan')\n",
        "\n",
        "# train all data\n",
        "train_all_data(home_bot)\n",
        "\n",
        "# check identity\n",
        "identity = input(\"State your identity please: \")\n",
        "\n",
        "# rules for responding to different identities\n",
        "if identity == \"mark\":\n",
        "    print(\"Welcome, Mark. Happy to have you at home.\")\n",
        "\n",
        "elif identity == \"jane\":\n",
        "    print(\"Mark is out right now, but you are welcome to the house.\")\n",
        "\n",
        "else:\n",
        "    print(\"Your access is denied here.\")\n",
        "    exit()\n",
        "\n",
        "# custom data\n",
        "house_owner = [\n",
        "    \"Who is the owner of this house?\",\n",
        "    \"Mark Nicholas is the owner of this house.\"\n",
        "]\n",
        "custom_train(home_bot, house_owner)\n",
        "\n",
        "print(\"------ Training custom data ------\")\n",
        "# write and train your custom data here IF the identity is Mark\n",
        "if identity == 'mark':   \n",
        "    city_born = [\n",
        "        \"Where was I born?\",\n",
        "        \"Mark, you were born in Seattle.\"\n",
        "    ]\n",
        "\n",
        "    fav_book = [\n",
        "        \"What is my favourite book?\",\n",
        "        \"That is easy. Your favourite book is The Great Gatsby.\"\n",
        "    ]\n",
        "\n",
        "    fav_movie = [\n",
        "        \"What is my favourite movie?\",\n",
        "        \"You have watched Interstellar more times than I can count.\"\n",
        "    ]\n",
        "\n",
        "    fav_sports = [\n",
        "        \"What is my favourite sport?\",\n",
        "        \"You have always loved baseball.\"\n",
        "    ]\n",
        "        \n",
        "    # train chatbot with your custom data\n",
        "    custom_train(home_bot, city_born)\n",
        "    custom_train(home_bot, fav_book)\n",
        "    custom_train(home_bot, fav_movie)\n",
        "    custom_train(home_bot, fav_sports)\n",
        "\n",
        "# start chatbot\n",
        "start_chatbot(home_bot)        "
      ],
      "execution_count": null,
      "outputs": [
        {
          "output_type": "stream",
          "text": [
            "Training ai.yml: [####################] 100%\n",
            "Training botprofile.yml: [####################] 100%\n",
            "Training computers.yml: [####################] 100%\n",
            "Training conversations.yml: [####################] 100%\n",
            "Training emotion.yml: [####################] 100%\n",
            "Training food.yml: [####################] 100%\n",
            "Training gossip.yml: [####################] 100%\n",
            "Training greetings.yml: [####################] 100%\n",
            "Training health.yml: [####################] 100%\n",
            "Training history.yml: [####################] 100%\n",
            "Training humor.yml: [####################] 100%\n",
            "Training literature.yml: [####################] 100%\n",
            "Training money.yml: [####################] 100%\n",
            "Training movies.yml: [####################] 100%\n",
            "Training politics.yml: [####################] 100%\n",
            "Training psychology.yml: [####################] 100%\n",
            "Training science.yml: [####################] 100%\n",
            "Training sports.yml: [####################] 100%\n",
            "Training trivia.yml: [####################] 100%\n",
            "State your identity please: mark\n",
            "Welcome, Mark. Happy to have you at home.\n",
            "List Trainer: [####################] 100%\n",
            "------ Training custom data ------\n",
            "List Trainer: [####################] 100%\n",
            "List Trainer: [####################] 100%\n",
            "List Trainer: [####################] 100%\n",
            "List Trainer: [####################] 100%\n",
            "\u001bc\n",
            "Hello, I am Jordan. How can I help you\n",
            "me: Who is the owner of this house\n",
            "Jordan: Mark Nicholas is the owner of this house.\n",
            "me: Where was I born\n",
            "Jordan: Mark, you were born in Seattle.\n",
            "me: What is my favourite movie\n",
            "Jordan: You have watched Interstellar more times than I can count.\n",
            "me: What is my favourite sport\n",
            "Jordan: You have always loved baseball.\n",
            "me: What is my favourite book\n",
            "Jordan: I can't read.\n",
            "me: What is my favourite book\n",
            "Jordan: I can't read.\n",
            "me: What is my favourite book\n",
            "Jordan: I can't read.\n",
            "me: What is my favourite book\n",
            "Jordan: That is easy. Your favourite book is The Great Gatsby.\n",
            "me: bye\n",
            "Jordan: Good bye and have a Nice day\n"
          ],
          "name": "stdout"
        }
      ]
    }
  ]
}