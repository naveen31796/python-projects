{
  "nbformat": 4,
  "nbformat_minor": 0,
  "metadata": {
    "colab": {
      "name": "World Clock.ipynb",
      "provenance": [],
      "collapsed_sections": [],
      "include_colab_link": true
    },
    "kernelspec": {
      "name": "python3",
      "display_name": "Python 3"
    },
    "language_info": {
      "name": "python"
    }
  },
  "cells": [
    {
      "cell_type": "markdown",
      "metadata": {
        "id": "view-in-github",
        "colab_type": "text"
      },
      "source": [
        "<a href=\"https://colab.research.google.com/github/naveen31796/python-projects/blob/main/World_Clock.ipynb\" target=\"_parent\"><img src=\"https://colab.research.google.com/assets/colab-badge.svg\" alt=\"Open In Colab\"/></a>"
      ]
    },
    {
      "cell_type": "code",
      "metadata": {
        "colab": {
          "base_uri": "https://localhost:8080/"
        },
        "id": "40H93ulmzALX",
        "outputId": "98c8ad83-93a0-4f6d-8851-58ee1c6dc67c"
      },
      "source": [
        "import datetime  \n",
        "\n",
        "while (True):\n",
        "  ## get the name of the city from the user\n",
        "  city = input(\"Enter city: \")\n",
        "\n",
        "  ## get the current time \n",
        "  current_time = datetime.datetime.now()\n",
        "\n",
        "  ## save hours, minutes and second of the current time \n",
        "  ## in their corresponding variables \n",
        "  hour = current_time.hour\n",
        "  minute = current_time.minute\n",
        "  second = current_time.second\n",
        "  \n",
        "  ## check for case 1: the learner has typed Boston\n",
        "  if city == \"boston\":\n",
        "    hour = hour - 4 \n",
        "\n",
        "  ## check for case 2: the learner has typed Tokyo\n",
        "  elif city == \"tokyo\":\n",
        "    hour = hour + 9\n",
        "\n",
        "  ## check for case 3: the learner has typed Chicago\n",
        "  elif city == \"chicago\":\n",
        "    hour = hour - 5 \n",
        "\n",
        "  ## check for case 4: the learner has typed Seattle\n",
        "  elif city == \"seattle\":\n",
        "    hour = hour - 7\n",
        "  \n",
        "  ## check for case 5: the learner has typed Kolkata\n",
        "  elif city == \"kolkata\":\n",
        "    hour = hour + 5\n",
        "    minute = minute + 30\n",
        "\n",
        "  ## check for case 6: the learner has typed Karachi\n",
        "  elif city == \"karachi\":\n",
        "    hour = hour + 5\n",
        "\n",
        "  ## check for case 7: the learner has typed Cairo\n",
        "  elif city == \"cairo\":\n",
        "    hour = hour + 2\n",
        "\n",
        "  ## check for case 8: the learner has typed Shanghai\n",
        "  elif city == \"shanghai\":\n",
        "    hour = hour + 8\n",
        "\n",
        "  ## check for case 9: the learner has typed exit\n",
        "  elif city == \"exit\": \n",
        "    break\n",
        "\n",
        "  ## if all cases fail, show the time for GMT    \n",
        "  else:\n",
        "    print(city, \"is not added\")\n",
        "    city = \"GMT\" \n",
        "\n",
        "  # print the name of the city and the its corresponding time\n",
        "  print(city, str(hour) + \":\" + str(minute) + \":\" + str(second))\n"
      ],
      "execution_count": null,
      "outputs": [
        {
          "output_type": "stream",
          "text": [
            "Enter city: shanghai\n",
            "shanghai 21:22:12\n",
            "Enter city: kolkata\n",
            "kolkata 18:52:19\n",
            "Enter city: seattle\n",
            "seattle 6:22:31\n",
            "Enter city: boston\n",
            "boston 9:22:40\n",
            "Enter city: new york\n",
            "new york is not added\n",
            "GMT 13:22:53\n",
            "Enter city: exit\n"
          ],
          "name": "stdout"
        }
      ]
    }
  ]
}